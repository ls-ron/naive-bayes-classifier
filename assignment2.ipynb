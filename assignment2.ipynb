{
 "cells": [
  {
   "cell_type": "markdown",
   "id": "dace5b20",
   "metadata": {},
   "source": [
    "# Assignment 2\n",
    "\n",
    "### Naive Bayes Classifier"
   ]
  },
  {
   "cell_type": "code",
   "execution_count": null,
   "id": "704edac4",
   "metadata": {},
   "outputs": [],
   "source": [
    "# Imports for Assignment 2\n",
    "import pandas as pd\n",
    "import numpy as np\n",
    "import re\n",
    "import nltk\n",
    "from nltk import word_tokenize\n",
    "from sklearn.feature_extraction.text import CountVectorizer, TfidfTransformer\n",
    "from sklearn.model_selection import train_test_split, GridSearchCV\n",
    "from sklearn.metrics import accuracy_score, classification_report, confusion_matrix"
   ]
  },
  {
   "cell_type": "code",
   "execution_count": 9,
   "id": "a59fc3d4",
   "metadata": {},
   "outputs": [
    {
     "name": "stderr",
     "output_type": "stream",
     "text": [
      "[nltk_data] Downloading package punkt to\n",
      "[nltk_data]     C:\\Users\\rony2\\AppData\\Roaming\\nltk_data...\n",
      "[nltk_data]   Package punkt is already up-to-date!\n",
      "[nltk_data] Downloading package punkt_tab to\n",
      "[nltk_data]     C:\\Users\\rony2\\AppData\\Roaming\\nltk_data...\n",
      "[nltk_data]   Unzipping tokenizers\\punkt_tab.zip.\n"
     ]
    },
    {
     "data": {
      "text/plain": [
       "True"
      ]
     },
     "execution_count": 9,
     "metadata": {},
     "output_type": "execute_result"
    }
   ],
   "source": [
    "nltk.download('punkt')\n",
    "nltk.download('punkt_tab')"
   ]
  },
  {
   "cell_type": "code",
   "execution_count": 3,
   "id": "6255de03",
   "metadata": {},
   "outputs": [],
   "source": [
    "# Loading Data\n",
    "train_df = pd.read_csv('train.csv')\n",
    "test_df  = pd.read_csv('test.csv')"
   ]
  },
  {
   "cell_type": "code",
   "execution_count": 4,
   "id": "ab14359a",
   "metadata": {},
   "outputs": [],
   "source": [
    "# Data Preprocessing\n",
    "def clean_text(text):\n",
    "    text = text.lower()\n",
    "    text = re.sub(r\"[^a-z\\s]\", \"\", text)\n",
    "    tokens = word_tokenize(text)\n",
    "    return \" \".join(tokens)"
   ]
  },
  {
   "cell_type": "code",
   "execution_count": 16,
   "id": "3ab4d02d",
   "metadata": {},
   "outputs": [],
   "source": [
    "train_df['clean'] = train_df['Description'].apply(clean_text)\n",
    "test_df ['clean'] = test_df ['Description'].apply(clean_text)"
   ]
  },
  {
   "cell_type": "code",
   "execution_count": 17,
   "id": "f9f354e7",
   "metadata": {},
   "outputs": [],
   "source": [
    "# Basic Feature Extraction (Baseline)\n",
    "vectorizer = CountVectorizer(binary=True)\n",
    "X_counts = vectorizer.fit_transform(train_df['clean'])\n",
    "y = train_df['Class']"
   ]
  },
  {
   "cell_type": "code",
   "execution_count": 18,
   "id": "5520139b",
   "metadata": {},
   "outputs": [],
   "source": [
    "# Naive Bayes Classifier Code\n",
    "class NaiveBayesClassifier:\n",
    "    def __init__(self, alpha=1.0):\n",
    "        self.alpha = alpha\n",
    "    def fit(self, X, y):\n",
    "        n_docs, n_feats = X.shape\n",
    "        self.classes = np.unique(y)\n",
    "        self.log_prior = {}\n",
    "        self.log_likelihood = {}\n",
    "        for c in self.classes:\n",
    "            X_c = X[y == c]\n",
    "            # Prior\n",
    "            self.log_prior[c] = np.log(X_c.shape[0] / n_docs)\n",
    "            # Likelihood with smoothing\n",
    "            counts = np.array(X_c.sum(axis=0)).flatten() + self.alpha\n",
    "            total = counts.sum()\n",
    "            self.log_likelihood[c] = np.log(counts / total)\n",
    "        self.vocab_size = n_feats\n",
    "    def predict(self, X):\n",
    "        results = []\n",
    "        for i in range(X.shape[0]):\n",
    "            row = X[i].toarray().flatten()\n",
    "            scores = {c: self.log_prior[c] + (row * self.log_likelihood[c]).sum()\n",
    "                      for c in self.classes}\n",
    "            # choose best\n",
    "            results.append(max(scores, key=scores.get))\n",
    "        return np.array(results)"
   ]
  },
  {
   "cell_type": "code",
   "execution_count": 19,
   "id": "e9031f82",
   "metadata": {},
   "outputs": [
    {
     "ename": "AttributeError",
     "evalue": "'Series' object has no attribute 'nonzero'",
     "output_type": "error",
     "traceback": [
      "\u001b[31m---------------------------------------------------------------------------\u001b[39m",
      "\u001b[31mAttributeError\u001b[39m                            Traceback (most recent call last)",
      "\u001b[32m~\\AppData\\Local\\Temp\\ipykernel_26284\\2193119194.py\u001b[39m in \u001b[36m?\u001b[39m\u001b[34m()\u001b[39m\n\u001b[32m      1\u001b[39m \u001b[38;5;66;03m# 5. Validate Baseline\u001b[39;00m\n\u001b[32m      2\u001b[39m X_train, X_val, y_train, y_val = train_test_split(X_counts, y, test_size=\u001b[32m0.2\u001b[39m, random_state=\u001b[32m42\u001b[39m)\n\u001b[32m      3\u001b[39m base_clf = NaiveBayesClassifier(alpha=\u001b[32m1.0\u001b[39m)\n\u001b[32m----> \u001b[39m\u001b[32m4\u001b[39m base_clf.fit(X_train, y_train)\n\u001b[32m      5\u001b[39m base_preds = base_clf.predict(X_val)\n\u001b[32m      6\u001b[39m print(\u001b[33m\"Baseline Accuracy:\"\u001b[39m, accuracy_score(y_val, base_preds))\n\u001b[32m      7\u001b[39m print(classification_report(y_val, base_preds))\n",
      "\u001b[32m~\\AppData\\Local\\Temp\\ipykernel_26284\\197159666.py\u001b[39m in \u001b[36m?\u001b[39m\u001b[34m(self, X, y)\u001b[39m\n\u001b[32m      7\u001b[39m         self.classes = np.unique(y)\n\u001b[32m      8\u001b[39m         self.log_prior = {}\n\u001b[32m      9\u001b[39m         self.log_likelihood = {}\n\u001b[32m     10\u001b[39m         \u001b[38;5;28;01mfor\u001b[39;00m c \u001b[38;5;28;01min\u001b[39;00m self.classes:\n\u001b[32m---> \u001b[39m\u001b[32m11\u001b[39m             X_c = X[y == c]\n\u001b[32m     12\u001b[39m             \u001b[38;5;66;03m# Prior\u001b[39;00m\n\u001b[32m     13\u001b[39m             self.log_prior[c] = np.log(X_c.shape[\u001b[32m0\u001b[39m] / n_docs)\n\u001b[32m     14\u001b[39m             \u001b[38;5;66;03m# Likelihood with smoothing\u001b[39;00m\n",
      "\u001b[32mc:\\Users\\rony2\\OneDrive\\Desktop\\CODE\\naive-bayes-classifier\\venv\\Lib\\site-packages\\scipy\\sparse\\_index.py\u001b[39m in \u001b[36m?\u001b[39m\u001b[34m(self, key)\u001b[39m\n\u001b[32m     29\u001b[39m     \u001b[38;5;28;01mdef\u001b[39;00m __getitem__(self, key):\n\u001b[32m---> \u001b[39m\u001b[32m30\u001b[39m         index, new_shape = self._validate_indices(key)\n\u001b[32m     31\u001b[39m \n\u001b[32m     32\u001b[39m         \u001b[38;5;66;03m# 1D array\u001b[39;00m\n\u001b[32m     33\u001b[39m         \u001b[38;5;28;01mif\u001b[39;00m len(index) == \u001b[32m1\u001b[39m:\n",
      "\u001b[32mc:\\Users\\rony2\\OneDrive\\Desktop\\CODE\\naive-bayes-classifier\\venv\\Lib\\site-packages\\scipy\\sparse\\_index.py\u001b[39m in \u001b[36m?\u001b[39m\u001b[34m(self, key)\u001b[39m\n\u001b[32m    279\u001b[39m                 \u001b[38;5;28;01mif\u001b[39;00m ix.shape != mid_shape:\n\u001b[32m    280\u001b[39m                     raise IndexError(\n\u001b[32m    281\u001b[39m                         \u001b[33mf\"bool index {i} has shape {mid_shape} instead of {ix.shape}\"\u001b[39m\n\u001b[32m    282\u001b[39m                     )\n\u001b[32m--> \u001b[39m\u001b[32m283\u001b[39m                 index.extend(ix.nonzero())\n\u001b[32m    284\u001b[39m                 array_indices.extend(range(index_ndim, tmp_ndim))\n\u001b[32m    285\u001b[39m                 index_ndim = tmp_ndim\n\u001b[32m    286\u001b[39m             \u001b[38;5;28;01melse\u001b[39;00m:  \u001b[38;5;66;03m# dense array\u001b[39;00m\n",
      "\u001b[32mc:\\Users\\rony2\\OneDrive\\Desktop\\CODE\\naive-bayes-classifier\\venv\\Lib\\site-packages\\pandas\\core\\generic.py\u001b[39m in \u001b[36m?\u001b[39m\u001b[34m(self, name)\u001b[39m\n\u001b[32m   6295\u001b[39m             \u001b[38;5;28;01mand\u001b[39;00m name \u001b[38;5;28;01mnot\u001b[39;00m \u001b[38;5;28;01min\u001b[39;00m self._accessors\n\u001b[32m   6296\u001b[39m             \u001b[38;5;28;01mand\u001b[39;00m self._info_axis._can_hold_identifiers_and_holds_name(name)\n\u001b[32m   6297\u001b[39m         ):\n\u001b[32m   6298\u001b[39m             \u001b[38;5;28;01mreturn\u001b[39;00m self[name]\n\u001b[32m-> \u001b[39m\u001b[32m6299\u001b[39m         \u001b[38;5;28;01mreturn\u001b[39;00m object.__getattribute__(self, name)\n",
      "\u001b[31mAttributeError\u001b[39m: 'Series' object has no attribute 'nonzero'"
     ]
    }
   ],
   "source": [
    "# 5. Validate Baseline\n",
    "X_train, X_val, y_train, y_val = train_test_split(X_counts, y, test_size=0.2, random_state=42)\n",
    "base_clf = NaiveBayesClassifier(alpha=1.0)\n",
    "base_clf.fit(X_train, y_train)\n",
    "base_preds = base_clf.predict(X_val)\n",
    "print(\"Baseline Accuracy:\", accuracy_score(y_val, base_preds))\n",
    "print(classification_report(y_val, base_preds))"
   ]
  },
  {
   "cell_type": "code",
   "execution_count": null,
   "id": "4a3ca58e",
   "metadata": {},
   "outputs": [],
   "source": [
    "# 6. Improved Model with TF-IDF & Bigrams\n",
    "# Vectorizer with bigrams and TF-IDF\n",
    "vectorizer2 = CountVectorizer(ngram_range=(1,2), max_df=0.8, min_df=5)\n",
    "X_counts2 = vectorizer2.fit_transform(train_df['clean'])"
   ]
  },
  {
   "cell_type": "code",
   "execution_count": null,
   "id": "27dd8da8",
   "metadata": {},
   "outputs": [],
   "source": [
    "tfidf = TfidfTransformer()\n",
    "X_tfidf = tfidf.fit_transform(X_counts2)"
   ]
  },
  {
   "cell_type": "code",
   "execution_count": null,
   "id": "18b663e1",
   "metadata": {},
   "outputs": [],
   "source": [
    "# Tune alpha\n",
    "param_grid = {'alpha': [0.1, 0.5, 1.0, 2.0]}\n",
    "clf = NaiveBayesClassifier()"
   ]
  },
  {
   "cell_type": "code",
   "execution_count": null,
   "id": "96315b9f",
   "metadata": {},
   "outputs": [],
   "source": [
    "grid = GridSearchCV(estimator=clf, param_grid=param_grid, cv=3, scoring='accuracy')\n",
    "# wrap custom classifier to sklearn interface\n",
    "from sklearn.base import BaseEstimator, ClassifierMixin\n",
    "class SklearnNB(BaseEstimator, ClassifierMixin):\n",
    "    def __init__(self, alpha=1.0):\n",
    "        self.alpha = alpha\n",
    "        self.inner = NaiveBayesClassifier(alpha)\n",
    "    def fit(self, X, y):\n",
    "        self.inner.fit(X, y)\n",
    "        return self\n",
    "    def predict(self, X):\n",
    "        return self.inner.predict(X)"
   ]
  },
  {
   "cell_type": "code",
   "execution_count": null,
   "id": "ed70d7b4",
   "metadata": {},
   "outputs": [],
   "source": [
    "grid = GridSearchCV(SklearnNB(), param_grid, cv=3, scoring='accuracy')\n",
    "grid.fit(X_tfidf, y)\n",
    "print(\"Best alpha:\", grid.best_params_)"
   ]
  },
  {
   "cell_type": "code",
   "execution_count": null,
   "id": "d63fa022",
   "metadata": {},
   "outputs": [],
   "source": [
    "# Evaluate Improved Model\n",
    "best_alpha = grid.best_params_['alpha']\n",
    "imp_clf = NaiveBayesClassifier(alpha=best_alpha)\n",
    "imp_clf.fit(X_tfidf[X_train.indices], y_train)  # fit on training partition\n",
    "imp_preds = imp_clf.predict(X_tfidf[X_val.indices])\n",
    "print(\"Improved Accuracy:\", accuracy_score(y_val, imp_preds))\n",
    "print(classification_report(y_val, imp_preds))"
   ]
  },
  {
   "cell_type": "code",
   "execution_count": null,
   "id": "396d7667",
   "metadata": {},
   "outputs": [],
   "source": [
    "# 7. Final Training & Kaggle Submission\n",
    "# Retrain on full train data\n",
    "full_counts = vectorizer2.fit_transform(train_df['clean'])\n",
    "full_tfidf   = tfidf.fit_transform(full_counts)\n",
    "final_clf = NaiveBayesClassifier(alpha=best_alpha)\n",
    "final_clf.fit(full_tfidf, y)"
   ]
  },
  {
   "cell_type": "code",
   "execution_count": null,
   "id": "f12ed0ff",
   "metadata": {},
   "outputs": [],
   "source": [
    "# Predict on test\n",
    "X_test_counts = vectorizer2.transform(test_df['clean'])\n",
    "X_test_tfidf   = tfidf.transform(X_test_counts)\n",
    "test_preds = final_clf.predict(X_test_tfidf)"
   ]
  },
  {
   "cell_type": "code",
   "execution_count": null,
   "id": "f2c9d422",
   "metadata": {},
   "outputs": [],
   "source": [
    "#submission = pd.DataFrame({\n",
    "#    'id': test_df['id'],\n",
    "#    'label': test_preds\n",
    "#})\n",
    "#submission.to_csv('submission.csv', index=False)"
   ]
  }
 ],
 "metadata": {
  "kernelspec": {
   "display_name": "venv",
   "language": "python",
   "name": "python3"
  },
  "language_info": {
   "codemirror_mode": {
    "name": "ipython",
    "version": 3
   },
   "file_extension": ".py",
   "mimetype": "text/x-python",
   "name": "python",
   "nbconvert_exporter": "python",
   "pygments_lexer": "ipython3",
   "version": "3.11.9"
  }
 },
 "nbformat": 4,
 "nbformat_minor": 5
}
