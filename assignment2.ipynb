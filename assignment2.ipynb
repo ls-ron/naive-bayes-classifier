{
 "cells": [
  {
   "cell_type": "markdown",
   "id": "dace5b20",
   "metadata": {},
   "source": [
    "# Assignment 2\n",
    "\n",
    "### Naive Bayes Classifier"
   ]
  },
  {
   "cell_type": "code",
   "execution_count": null,
   "id": "704edac4",
   "metadata": {},
   "outputs": [],
   "source": []
  }
 ],
 "metadata": {
  "kernelspec": {
   "display_name": "venv",
   "language": "python",
   "name": "python3"
  },
  "language_info": {
   "name": "python",
   "version": "3.11.9"
  }
 },
 "nbformat": 4,
 "nbformat_minor": 5
}
