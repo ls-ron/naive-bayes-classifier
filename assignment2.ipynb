{
 "cells": [
  {
   "cell_type": "markdown",
   "id": "dace5b20",
   "metadata": {},
   "source": [
    "# Assignment 2\n",
    "\n",
    "### Naive Bayes Classifier"
   ]
  },
  {
   "cell_type": "code",
   "execution_count": 24,
   "id": "704edac4",
   "metadata": {},
   "outputs": [],
   "source": [
    "# Imports for Assignment 2\n",
    "import pandas as pd\n",
    "import numpy as np\n",
    "import re\n",
    "import nltk\n",
    "from nltk import word_tokenize\n",
    "from sklearn.feature_extraction.text import CountVectorizer, TfidfTransformer\n",
    "from sklearn.model_selection import train_test_split, GridSearchCV\n",
    "from sklearn.metrics import accuracy_score, classification_report, confusion_matrix"
   ]
  },
  {
   "cell_type": "code",
   "execution_count": 25,
   "id": "a59fc3d4",
   "metadata": {},
   "outputs": [
    {
     "name": "stderr",
     "output_type": "stream",
     "text": [
      "[nltk_data] Downloading package punkt to\n",
      "[nltk_data]     C:\\Users\\rony2\\AppData\\Roaming\\nltk_data...\n",
      "[nltk_data]   Package punkt is already up-to-date!\n",
      "[nltk_data] Downloading package punkt_tab to\n",
      "[nltk_data]     C:\\Users\\rony2\\AppData\\Roaming\\nltk_data...\n",
      "[nltk_data]   Package punkt_tab is already up-to-date!\n"
     ]
    },
    {
     "data": {
      "text/plain": [
       "True"
      ]
     },
     "execution_count": 25,
     "metadata": {},
     "output_type": "execute_result"
    }
   ],
   "source": [
    "nltk.download('punkt')\n",
    "nltk.download('punkt_tab')"
   ]
  },
  {
   "cell_type": "code",
   "execution_count": 26,
   "id": "6255de03",
   "metadata": {},
   "outputs": [],
   "source": [
    "# Loading Data\n",
    "train_df = pd.read_csv('train.csv')\n",
    "test_df  = pd.read_csv('test.csv')"
   ]
  },
  {
   "cell_type": "code",
   "execution_count": 27,
   "id": "ab14359a",
   "metadata": {},
   "outputs": [],
   "source": [
    "# Data Preprocessing\n",
    "def clean_text(text):\n",
    "    text = text.lower()\n",
    "    text = re.sub(r\"[^a-z\\s]\", \"\", text)\n",
    "    tokens = word_tokenize(text)\n",
    "    return \" \".join(tokens)"
   ]
  },
  {
   "cell_type": "code",
   "execution_count": 28,
   "id": "3ab4d02d",
   "metadata": {},
   "outputs": [],
   "source": [
    "train_df['clean'] = train_df['Description'].apply(clean_text)\n",
    "test_df ['clean'] = test_df ['Description'].apply(clean_text)"
   ]
  },
  {
   "cell_type": "code",
   "execution_count": 29,
   "id": "f9f354e7",
   "metadata": {},
   "outputs": [],
   "source": [
    "# Basic Feature Extraction (Baseline)\n",
    "vectorizer = CountVectorizer(binary=True)\n",
    "X_counts = vectorizer.fit_transform(train_df['clean'])\n",
    "y = train_df['Class']"
   ]
  },
  {
   "cell_type": "code",
   "execution_count": 30,
   "id": "5520139b",
   "metadata": {},
   "outputs": [],
   "source": [
    "# Naive Bayes Classifier Implementation\n",
    "class NaiveBayesClassifier:\n",
    "    def __init__(self, alpha=1.0):\n",
    "        self.alpha = alpha\n",
    "    def fit(self, X, y):\n",
    "        n_docs, n_feats = X.shape\n",
    "        self.classes = np.unique(y)\n",
    "        self.log_prior = {}\n",
    "        self.log_likelihood = {}\n",
    "        for c in self.classes:\n",
    "            idx = np.where(y == c)[0]\n",
    "            X_c = X[idx]\n",
    "            self.log_prior[c] = np.log(len(idx) / n_docs)\n",
    "            counts = np.array(X_c.sum(axis=0)).flatten() + self.alpha\n",
    "            total = counts.sum()\n",
    "            self.log_likelihood[c] = np.log(counts / total)\n",
    "        return self    \n",
    "    def predict(self, X):\n",
    "        results = []\n",
    "        for i in range(X.shape[0]):\n",
    "            row = X[i].toarray().flatten()\n",
    "            scores = {c: self.log_prior[c] + (row * self.log_likelihood[c]).sum()\n",
    "                      for c in self.classes}\n",
    "            results.append(max(scores, key=scores.get))\n",
    "        return np.array(results)"
   ]
  },
  {
   "cell_type": "code",
   "execution_count": 48,
   "id": "e9031f82",
   "metadata": {},
   "outputs": [
    {
     "name": "stdout",
     "output_type": "stream",
     "text": [
      "Baseline Accuracy: 0.9647727272727272\n",
      "              precision    recall  f1-score   support\n",
      "\n",
      "           A       0.97      1.00      0.99       349\n",
      "           G       1.00      0.87      0.93        46\n",
      "           S       0.53      0.90      0.67        20\n",
      "           W       0.99      0.95      0.97       465\n",
      "\n",
      "    accuracy                           0.96       880\n",
      "   macro avg       0.87      0.93      0.89       880\n",
      "weighted avg       0.97      0.96      0.97       880\n",
      "\n"
     ]
    }
   ],
   "source": [
    "# Validate Baseline\n",
    "X_train, X_val, y_train, y_val = train_test_split(X_counts, y, test_size=0.2, random_state=10000)\n",
    "base_clf = NaiveBayesClassifier(alpha=1.0)\n",
    "base_clf.fit(X_train, y_train)\n",
    "base_preds = base_clf.predict(X_val)\n",
    "print(\"Baseline Accuracy:\", accuracy_score(y_val, base_preds))\n",
    "print(classification_report(y_val, base_preds))"
   ]
  },
  {
   "cell_type": "code",
   "execution_count": 52,
   "id": "4a3ca58e",
   "metadata": {},
   "outputs": [],
   "source": [
    "# Improved Model with TF-IDF & Bigrams\n",
    "# CountVectorizer with bigrams + frequency filters\n",
    "erange = (1,2)\n",
    "vectorizer2 = CountVectorizer(ngram_range=erange, max_df=0.8, min_df=5)\n",
    "X_counts2 = vectorizer2.fit_transform(train_df['clean'])"
   ]
  },
  {
   "cell_type": "code",
   "execution_count": 53,
   "id": "d4d22229",
   "metadata": {},
   "outputs": [],
   "source": [
    "tfidf = TfidfTransformer()\n",
    "X_tfidf = tfidf.fit_transform(X_counts2)"
   ]
  },
  {
   "cell_type": "code",
   "execution_count": 54,
   "id": "9f978b03",
   "metadata": {},
   "outputs": [],
   "source": [
    "# Wrap custom NB in sklearn interface\n",
    "from sklearn.base import BaseEstimator, ClassifierMixin\n",
    "class SklearnNB(BaseEstimator, ClassifierMixin):\n",
    "    def __init__(self, alpha=1.0):\n",
    "        self.alpha = alpha\n",
    "        self.model = NaiveBayesClassifier(alpha)\n",
    "    def fit(self, X, y):\n",
    "        self.model = self.model.fit(X, y)\n",
    "        return self\n",
    "    def predict(self, X):\n",
    "        return self.model.predict(X)"
   ]
  },
  {
   "cell_type": "code",
   "execution_count": 55,
   "id": "18b663e1",
   "metadata": {},
   "outputs": [
    {
     "name": "stdout",
     "output_type": "stream",
     "text": [
      "Best smoothing alpha: 0.1\n"
     ]
    }
   ],
   "source": [
    "# Hyperparameter tuning for alpha\n",
    "param_grid = {'alpha': [0.1, 0.5, 1.0, 2.0]}\n",
    "grid = GridSearchCV(SklearnNB(), param_grid, cv=3, scoring='accuracy')\n",
    "grid.fit(X_tfidf, y)\n",
    "best_alpha = grid.best_params_['alpha']\n",
    "print(\"Best smoothing alpha:\", best_alpha)"
   ]
  },
  {
   "cell_type": "code",
   "execution_count": 61,
   "id": "96315b9f",
   "metadata": {},
   "outputs": [
    {
     "name": "stdout",
     "output_type": "stream",
     "text": [
      "Improved Accuracy: 0.9840909090909091\n",
      "              precision    recall  f1-score   support\n",
      "\n",
      "           A       0.98      0.99      0.99       355\n",
      "           G       1.00      0.97      0.99        39\n",
      "           S       0.87      0.80      0.83        25\n",
      "           W       0.99      0.99      0.99       461\n",
      "\n",
      "    accuracy                           0.98       880\n",
      "   macro avg       0.96      0.94      0.95       880\n",
      "weighted avg       0.98      0.98      0.98       880\n",
      "\n"
     ]
    }
   ],
   "source": [
    "# Evaluate improved on validation split\n",
    "X_train2, X_val2, y_train2, y_val2 = train_test_split(X_tfidf, y, test_size=0.2, random_state=777)\n",
    "imp_clf = NaiveBayesClassifier(alpha=best_alpha)\n",
    "imp_clf.fit(X_train2, y_train2)\n",
    "imp_preds = imp_clf.predict(X_val2)\n",
    "print(\"Improved Accuracy:\", accuracy_score(y_val2, imp_preds))\n",
    "print(classification_report(y_val2, imp_preds))"
   ]
  },
  {
   "cell_type": "code",
   "execution_count": 62,
   "id": "396d7667",
   "metadata": {},
   "outputs": [
    {
     "data": {
      "text/plain": [
       "<__main__.NaiveBayesClassifier at 0x2e8818788d0>"
      ]
     },
     "execution_count": 62,
     "metadata": {},
     "output_type": "execute_result"
    }
   ],
   "source": [
    "# Final Training & Kaggle Submission\n",
    "# Retrain on full data\n",
    "full_counts = vectorizer2.fit_transform(train_df['clean'])\n",
    "full_tfidf   = tfidf.fit_transform(full_counts)\n",
    "final_clf = NaiveBayesClassifier(alpha=best_alpha)\n",
    "final_clf.fit(full_tfidf, y)"
   ]
  },
  {
   "cell_type": "code",
   "execution_count": 63,
   "id": "f12ed0ff",
   "metadata": {},
   "outputs": [],
   "source": [
    "# Predict on test set\n",
    "X_test_counts = vectorizer2.transform(test_df['clean'])\n",
    "X_test_tfidf   = tfidf.transform(X_test_counts)\n",
    "test_preds = final_clf.predict(X_test_tfidf)"
   ]
  },
  {
   "cell_type": "code",
   "execution_count": 65,
   "id": "f2c9d422",
   "metadata": {},
   "outputs": [
    {
     "name": "stdout",
     "output_type": "stream",
     "text": [
      "Available columns in test_df:  ['Id', 'Description', 'clean']\n",
      "Submission file created using 'Id' as the identifier column.\n"
     ]
    }
   ],
   "source": [
    "# Prepare submission file: automatically detect ID column\n",
    "print(\"Available columns in test_df: \", test_df.columns.tolist())\n",
    "# Determine the appropriate ID column (e.g., 'id', 'ID', or the first column)\n",
    "id_col = None\n",
    "for candidate in ['id', 'ID']:\n",
    "    if candidate in test_df.columns:\n",
    "        id_col = candidate\n",
    "        break\n",
    "# Fallback to first column if no standard name found\n",
    "if id_col is None:\n",
    "    id_col = test_df.columns[0]\n",
    "\n",
    "submission = pd.DataFrame({\n",
    "    id_col: test_df[id_col],\n",
    "    'Class': test_preds\n",
    "})\n",
    "submission.to_csv('submission.csv', index=False)\n",
    "print(f\"Submission file created using '{id_col}' as the identifier column.\")"
   ]
  }
 ],
 "metadata": {
  "kernelspec": {
   "display_name": "venv",
   "language": "python",
   "name": "python3"
  },
  "language_info": {
   "codemirror_mode": {
    "name": "ipython",
    "version": 3
   },
   "file_extension": ".py",
   "mimetype": "text/x-python",
   "name": "python",
   "nbconvert_exporter": "python",
   "pygments_lexer": "ipython3",
   "version": "3.11.9"
  }
 },
 "nbformat": 4,
 "nbformat_minor": 5
}
